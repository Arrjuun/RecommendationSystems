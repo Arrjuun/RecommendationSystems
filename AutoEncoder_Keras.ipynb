{
 "cells": [
  {
   "cell_type": "code",
   "execution_count": 1,
   "metadata": {},
   "outputs": [
    {
     "name": "stdout",
     "output_type": "stream",
     "text": [
      "(3883,)\n",
      "(6040,)\n",
      "(6040, 3883)\n"
     ]
    }
   ],
   "source": [
    "import numpy as np\n",
    "import pandas as pd\n",
    "from sklearn.model_selection import train_test_split\n",
    "\n",
    "%matplotlib inline\n",
    "\n",
    "import matplotlib\n",
    "import matplotlib.pyplot as plt\n",
    "import pylab \n",
    "\n",
    "\n",
    "ratings = pd.read_csv('ml-1m/ratings.dat', sep='::', names=['user_id', 'movie_id', 'rating', 'timestamp'], engine='python')\n",
    "movies = pd.read_csv('ml-1m/movies.dat', sep='::', names=['movie_id', 'title', 'genre'], engine='python')\n",
    "\n",
    "columns = movies.title.unique()\n",
    "print(columns.shape)\n",
    "indices = ratings.user_id.unique()\n",
    "print(indices.shape)\n",
    "\n",
    "userRatings = pd.DataFrame(index= indices, columns=columns)\n",
    "print(userRatings.shape)\n",
    "\n",
    "ratings = pd.merge(movies, ratings)\n",
    "\n",
    "for index, row in ratings.iterrows():\n",
    "    userRatings.set_value(row['user_id'], row['title'], float(row['rating']))\n",
    "\n",
    "userRatings = userRatings.fillna(0)"
   ]
  },
  {
   "cell_type": "code",
   "execution_count": 2,
   "metadata": {},
   "outputs": [
    {
     "name": "stdout",
     "output_type": "stream",
     "text": [
      "(3805, 3883)\n",
      "(1812, 3883)\n",
      "(423, 3883)\n"
     ]
    }
   ],
   "source": [
    "train, test = train_test_split(userRatings, test_size = 0.3, random_state=10)\n",
    "train, val = train_test_split(train, test_size = 0.1, random_state=10)\n",
    "\n",
    "print(train.shape)\n",
    "print(test.shape)\n",
    "print(val.shape)"
   ]
  },
  {
   "cell_type": "code",
   "execution_count": 3,
   "metadata": {},
   "outputs": [
    {
     "name": "stderr",
     "output_type": "stream",
     "text": [
      "Using TensorFlow backend.\n"
     ]
    }
   ],
   "source": [
    "from keras.layers import Input, Dense\n",
    "from keras.models import Model\n",
    "from keras.callbacks import EarlyStopping\n",
    "\n",
    "encoding_dim1 = 1000\n",
    "encoding_dim2 = 500\n",
    "\n",
    "#input placeholder\n",
    "input_rating = Input(shape=(3883,))\n",
    "encoded = Dense(encoding_dim1, activation='relu')(input_rating)\n",
    "encoded = Dense(encoding_dim2, activation='relu')(encoded)\n",
    "decoded = Dense(encoding_dim1, activation='relu')(encoded)\n",
    "decoded = Dense(3883, activation='relu')(decoded)\n",
    "\n",
    "#this model maps an input to its reconstruction\n",
    "autoencoder = Model(input_rating, decoded)"
   ]
  },
  {
   "cell_type": "code",
   "execution_count": 4,
   "metadata": {
    "collapsed": true
   },
   "outputs": [],
   "source": [
    "import keras.backend as K\n",
    "from keras.callbacks import History \n",
    "hist = History()\n",
    "\n",
    "def non_zero_rmse(y_true, y_pred):\n",
    "# #     return K.sum((y_true - K.cast(K.not_equal(y_true, 0), \"float32\") * y_pred), axis=1)**2\n",
    "#     return K.sqrt(K.mean(K.square(y_pred - y_true), axis=-1))\n",
    "    mask_true = K.cast(K.not_equal(y_true, 0), K.floatx())\n",
    "    masked_squared_error = K.square(mask_true * (y_true - y_pred))\n",
    "    masked_rmse = K.sqrt(K.sum(masked_squared_error, axis=-1) / K.sum(mask_true, axis=-1))\n",
    "    return masked_rmse\n",
    "\n",
    "autoencoder.compile(optimizer='rmsprop', loss=non_zero_rmse) #, metrics =[\"accuracy\"]"
   ]
  },
  {
   "cell_type": "code",
   "execution_count": 5,
   "metadata": {},
   "outputs": [
    {
     "name": "stdout",
     "output_type": "stream",
     "text": [
      "_________________________________________________________________\n",
      "Layer (type)                 Output Shape              Param #   \n",
      "=================================================================\n",
      "input_1 (InputLayer)         (None, 3883)              0         \n",
      "_________________________________________________________________\n",
      "dense_1 (Dense)              (None, 1000)              3884000   \n",
      "_________________________________________________________________\n",
      "dense_2 (Dense)              (None, 500)               500500    \n",
      "_________________________________________________________________\n",
      "dense_3 (Dense)              (None, 1000)              501000    \n",
      "_________________________________________________________________\n",
      "dense_4 (Dense)              (None, 3883)              3886883   \n",
      "=================================================================\n",
      "Total params: 8,772,383\n",
      "Trainable params: 8,772,383\n",
      "Non-trainable params: 0\n",
      "_________________________________________________________________\n"
     ]
    }
   ],
   "source": [
    "autoencoder.summary()"
   ]
  },
  {
   "cell_type": "code",
   "execution_count": 6,
   "metadata": {},
   "outputs": [
    {
     "name": "stdout",
     "output_type": "stream",
     "text": [
      "Train on 3805 samples, validate on 423 samples\n",
      "Epoch 1/500\n",
      "3805/3805 [==============================] - 10s - loss: 2.4917 - val_loss: 1.6384\n",
      "Epoch 2/500\n",
      "3805/3805 [==============================] - 10s - loss: 1.7931 - val_loss: 1.5683\n",
      "Epoch 3/500\n",
      "3805/3805 [==============================] - 10s - loss: 1.6638 - val_loss: 1.6470\n",
      "Epoch 4/500\n",
      "3805/3805 [==============================] - 10s - loss: 1.5820 - val_loss: 1.5617\n",
      "Epoch 5/500\n",
      "3805/3805 [==============================] - 10s - loss: 1.5065 - val_loss: 1.5796\n",
      "Epoch 6/500\n",
      "3805/3805 [==============================] - 10s - loss: 1.4601 - val_loss: 1.4576\n",
      "Epoch 7/500\n",
      "3805/3805 [==============================] - 10s - loss: 1.4250 - val_loss: 1.5153\n",
      "Epoch 8/500\n",
      "3805/3805 [==============================] - 10s - loss: 1.3748 - val_loss: 1.5793\n",
      "Epoch 9/500\n",
      "3805/3805 [==============================] - 11s - loss: 1.3218 - val_loss: 1.4302\n",
      "Epoch 10/500\n",
      "3805/3805 [==============================] - 10s - loss: 1.2809 - val_loss: 1.4038\n",
      "Epoch 11/500\n",
      "3805/3805 [==============================] - 11s - loss: 1.2359 - val_loss: 1.4585\n",
      "Epoch 12/500\n",
      "3805/3805 [==============================] - 11s - loss: 1.1953 - val_loss: 1.4110\n",
      "Epoch 13/500\n",
      "3805/3805 [==============================] - 10s - loss: 1.1513 - val_loss: 1.3629\n",
      "Epoch 14/500\n",
      "3805/3805 [==============================] - 10s - loss: 1.1077 - val_loss: 1.4615\n",
      "Epoch 15/500\n",
      "3805/3805 [==============================] - 10s - loss: 1.0774 - val_loss: 1.3182\n",
      "Epoch 16/500\n",
      "3805/3805 [==============================] - 10s - loss: 1.0394 - val_loss: 1.3461\n",
      "Epoch 17/500\n",
      "3805/3805 [==============================] - 10s - loss: 1.0069 - val_loss: 1.3745\n",
      "Epoch 18/500\n",
      "3805/3805 [==============================] - 10s - loss: 0.9714 - val_loss: 1.2838\n",
      "Epoch 19/500\n",
      "3805/3805 [==============================] - 10s - loss: 0.9528 - val_loss: 1.3680\n",
      "Epoch 20/500\n",
      "3805/3805 [==============================] - 11s - loss: 0.9328 - val_loss: 1.3002\n",
      "Epoch 21/500\n",
      "3805/3805 [==============================] - 10s - loss: 0.9054 - val_loss: 1.3621\n",
      "Epoch 22/500\n",
      "3805/3805 [==============================] - 10s - loss: 0.8739 - val_loss: 1.2720\n",
      "Epoch 23/500\n",
      "3805/3805 [==============================] - 10s - loss: 0.8508 - val_loss: 1.2422\n",
      "Epoch 24/500\n",
      "3805/3805 [==============================] - 10s - loss: 0.8313 - val_loss: 1.2753\n",
      "Epoch 25/500\n",
      "3805/3805 [==============================] - 10s - loss: 0.8236 - val_loss: 1.2721\n",
      "Epoch 26/500\n",
      "3805/3805 [==============================] - 10s - loss: 0.8013 - val_loss: 1.2773\n",
      "Epoch 27/500\n",
      "3805/3805 [==============================] - 10s - loss: 0.7856 - val_loss: 1.2314\n",
      "Epoch 28/500\n",
      "3805/3805 [==============================] - 10s - loss: 0.7845 - val_loss: 1.2566\n",
      "Epoch 29/500\n",
      "3805/3805 [==============================] - 9s - loss: 0.7709 - val_loss: 1.2658\n",
      "Epoch 30/500\n",
      "3805/3805 [==============================] - 9s - loss: 0.7587 - val_loss: 1.2536\n",
      "Epoch 31/500\n",
      "3805/3805 [==============================] - 9s - loss: 0.7466 - val_loss: 1.2206\n",
      "Epoch 32/500\n",
      "3805/3805 [==============================] - 9s - loss: 0.7321 - val_loss: 1.2594\n",
      "Epoch 33/500\n",
      "3805/3805 [==============================] - 10s - loss: 0.7213 - val_loss: 1.2660\n",
      "Epoch 34/500\n",
      "3805/3805 [==============================] - 10s - loss: 0.7043 - val_loss: 1.2339\n",
      "Epoch 35/500\n",
      "3805/3805 [==============================] - 10s - loss: 0.6839 - val_loss: 1.2727\n",
      "Epoch 36/500\n",
      "3805/3805 [==============================] - 10s - loss: 0.6745 - val_loss: 1.2673\n",
      "Epoch 37/500\n",
      "3805/3805 [==============================] - 10s - loss: 0.6643 - val_loss: 1.2080\n",
      "Epoch 38/500\n",
      "3805/3805 [==============================] - 10s - loss: 0.6603 - val_loss: 1.1915\n",
      "Epoch 39/500\n",
      "3805/3805 [==============================] - 10s - loss: 0.6258 - val_loss: 1.2989\n",
      "Epoch 40/500\n",
      "3805/3805 [==============================] - 10s - loss: 0.6173 - val_loss: 1.1953\n",
      "Epoch 41/500\n",
      "3805/3805 [==============================] - 10s - loss: 0.6040 - val_loss: 1.2178\n",
      "Epoch 42/500\n",
      "3805/3805 [==============================] - 10s - loss: 0.5994 - val_loss: 1.1835\n",
      "Epoch 43/500\n",
      "3805/3805 [==============================] - 10s - loss: 0.6026 - val_loss: 1.2193\n",
      "Epoch 44/500\n",
      "3805/3805 [==============================] - 10s - loss: 0.5840 - val_loss: 1.1885\n",
      "Epoch 45/500\n",
      "3805/3805 [==============================] - 10s - loss: 0.5707 - val_loss: 1.2023\n",
      "Epoch 46/500\n",
      "3805/3805 [==============================] - 10s - loss: 0.5682 - val_loss: 1.1663\n",
      "Epoch 47/500\n",
      "3805/3805 [==============================] - 11s - loss: 0.5661 - val_loss: 1.2548\n",
      "Epoch 48/500\n",
      "3805/3805 [==============================] - 10s - loss: 0.5595 - val_loss: 1.1944\n",
      "Epoch 49/500\n",
      "3805/3805 [==============================] - 9s - loss: 0.5396 - val_loss: 1.2393\n",
      "Epoch 50/500\n",
      "3805/3805 [==============================] - 9s - loss: 0.5476 - val_loss: 1.1901\n",
      "Epoch 51/500\n",
      "3805/3805 [==============================] - 9s - loss: 0.5397 - val_loss: 1.2673\n",
      "Epoch 52/500\n",
      "3805/3805 [==============================] - 9s - loss: 0.5283 - val_loss: 1.1566\n",
      "Epoch 53/500\n",
      "3805/3805 [==============================] - 9s - loss: 0.5191 - val_loss: 1.1732\n",
      "Epoch 54/500\n",
      "3805/3805 [==============================] - 9s - loss: 0.5197 - val_loss: 1.1722\n",
      "Epoch 55/500\n",
      "3805/3805 [==============================] - 9s - loss: 0.5145 - val_loss: 1.2077\n",
      "Epoch 56/500\n",
      "3805/3805 [==============================] - 10s - loss: 0.5094 - val_loss: 1.1977\n",
      "Epoch 57/500\n",
      "3805/3805 [==============================] - 9s - loss: 0.5100 - val_loss: 1.2102\n",
      "Epoch 58/500\n",
      "3805/3805 [==============================] - 11s - loss: 0.5046 - val_loss: 1.1791\n",
      "Epoch 59/500\n",
      "3805/3805 [==============================] - 9s - loss: 0.4985 - val_loss: 1.1863\n",
      "Epoch 60/500\n",
      "3805/3805 [==============================] - 10s - loss: 0.4944 - val_loss: 1.1987\n",
      "Epoch 61/500\n",
      "3805/3805 [==============================] - 9s - loss: 0.4944 - val_loss: 1.1779\n",
      "Epoch 62/500\n",
      "3805/3805 [==============================] - 9s - loss: 0.4908 - val_loss: 1.1902\n",
      "Epoch 63/500\n",
      "3805/3805 [==============================] - 9s - loss: 0.4841 - val_loss: 1.2283\n"
     ]
    },
    {
     "data": {
      "text/plain": [
       "<keras.callbacks.History at 0x212fd3d7eb8>"
      ]
     },
     "execution_count": 6,
     "metadata": {},
     "output_type": "execute_result"
    }
   ],
   "source": [
    "early_stopping = EarlyStopping(monitor='val_loss', patience=10)\n",
    "\n",
    "autoencoder.fit(np.array(train), np.array(train),\n",
    "                epochs=500,\n",
    "                batch_size=100,\n",
    "                shuffle=True,\n",
    "                callbacks=[early_stopping, hist],\n",
    "                validation_data=(np.array(val), np.array(val)))"
   ]
  },
  {
   "cell_type": "code",
   "execution_count": 7,
   "metadata": {
    "collapsed": true
   },
   "outputs": [],
   "source": [
    "pred = autoencoder.predict(np.array(test))"
   ]
  },
  {
   "cell_type": "code",
   "execution_count": 8,
   "metadata": {},
   "outputs": [
    {
     "name": "stdout",
     "output_type": "stream",
     "text": [
      "Tensor(\"Sqrt:0\", shape=(1812,), dtype=float32)\n"
     ]
    }
   ],
   "source": [
    "print(non_zero_rmse(np.array(test),np.array(pred)))"
   ]
  },
  {
   "cell_type": "code",
   "execution_count": 9,
   "metadata": {
    "collapsed": true
   },
   "outputs": [],
   "source": [
    "def non_zero_rmse_np(y_true,y_pred):\n",
    "    counter = 0\n",
    "    e = 0\n",
    "    for i in range(len(y_true)):\n",
    "        for j in range(len(y_true[i])):\n",
    "            if y_true[i][j] > 0:\n",
    "                counter = counter + 1\n",
    "                e = e + pow(y_true[i][j] - y_pred[i][j], 2)\n",
    "    e = np.sqrt(e/counter)\n",
    "    return e\n",
    "    "
   ]
  },
  {
   "cell_type": "code",
   "execution_count": 10,
   "metadata": {},
   "outputs": [
    {
     "name": "stdout",
     "output_type": "stream",
     "text": [
      "RMSE on rated movies for test set :  1.14207215909\n"
     ]
    }
   ],
   "source": [
    "test_rmse = non_zero_rmse_np(np.array(test),np.array(pred))\n",
    "print(\"RMSE on rated movies for test set : \",test_rmse)"
   ]
  },
  {
   "cell_type": "code",
   "execution_count": 11,
   "metadata": {
    "collapsed": true
   },
   "outputs": [],
   "source": [
    "val_loss = hist.history['val_loss']"
   ]
  },
  {
   "cell_type": "code",
   "execution_count": 12,
   "metadata": {
    "collapsed": true
   },
   "outputs": [],
   "source": [
    "train_loss = hist.history['loss']\n",
    "\n",
    "test_error = [test_rmse for i in range(len(val_loss))]"
   ]
  },
  {
   "cell_type": "code",
   "execution_count": 13,
   "metadata": {},
   "outputs": [
    {
     "data": {
      "image/png": "[encoded data removed]",
      "text/plain": [
       "<matplotlib.figure.Figure at 0x21290ffd198>"
      ]
     },
     "metadata": {},
     "output_type": "display_data"
    }
   ],
   "source": [
    "t = range(1,len(val_loss)+1)\n",
    "\n",
    "plt.figure(figsize=(20,10))\n",
    "plt.plot(t, train_loss, 'b', label='Training Loss') \n",
    "plt.plot(t, val_loss, 'r', label='Validation Loss')\n",
    "plt.plot(t, test_error, 'g', label='Test RMSE')\n",
    "pylab.legend(loc='upper right')\n",
    "pylab.xlim(xmin=1)\n",
    "plt.xticks(t)\n",
    "plt.xlabel('Epoch')\n",
    "plt.ylabel('RMSE')\n",
    "plt.title('RMSE On Rated Movies by Users')\n",
    "plt.show()"
   ]
  },
  {
   "cell_type": "code",
   "execution_count": 14,
   "metadata": {
    "collapsed": true
   },
   "outputs": [],
   "source": [
    "test_np = np.array(test)\n",
    "test_user1 = test_np[10,:]\n",
    "sorted_indices_actual = np.argsort(np.array(test_user1))\n",
    "flipped = np.flip(sorted_indices_actual,0)\n",
    "\n",
    "\n",
    "predicted_test_user1 = pred[10,:]\n",
    "sorted_indices_predicted = np.argsort(np.array(predicted_test_user1))\n",
    "flipped_pred = np.flip(sorted_indices_predicted,0)"
   ]
  },
  {
   "cell_type": "code",
   "execution_count": 15,
   "metadata": {
    "collapsed": true
   },
   "outputs": [],
   "source": [
    "actual_set = set()\n",
    "predicted_set = set()\n",
    "\n",
    "for index in range(np.count_nonzero(test_user1)):\n",
    "    actual_set.add(columns[flipped[index]])\n",
    "\n",
    "for index in range(np.count_nonzero(test_user1)):\n",
    "    predicted_set.add(columns[flipped_pred[index]])"
   ]
  },
  {
   "cell_type": "code",
   "execution_count": 16,
   "metadata": {},
   "outputs": [
    {
     "name": "stdout",
     "output_type": "stream",
     "text": [
      "Common Movies Count :  45\n",
      "Actual :  0.0 Predicted :  4.0338\n",
      "Actual :  0.0 Predicted :  1.81486\n",
      "Actual :  0.0 Predicted :  1.57466\n",
      "Actual :  0.0 Predicted :  2.07341\n",
      "Actual :  0.0 Predicted :  1.94514\n",
      "Actual :  5.0 Predicted :  4.17847\n",
      "Actual :  0.0 Predicted :  1.69079\n",
      "Actual :  0.0 Predicted :  1.6261\n",
      "Actual :  0.0 Predicted :  1.60906\n",
      "Actual :  3.0 Predicted :  2.60488\n",
      "Actual :  0.0 Predicted :  2.74849\n",
      "Actual :  0.0 Predicted :  2.66898\n",
      "Actual :  0.0 Predicted :  1.49999\n",
      "Actual :  0.0 Predicted :  3.11404\n",
      "Actual :  0.0 Predicted :  1.11053\n",
      "Actual :  0.0 Predicted :  3.67502\n",
      "Actual :  0.0 Predicted :  4.09219\n",
      "Actual :  0.0 Predicted :  2.15951\n",
      "Actual :  0.0 Predicted :  1.89503\n",
      "Actual :  0.0 Predicted :  1.26527\n",
      "Actual :  0.0 Predicted :  4.17904\n",
      "Actual :  0.0 Predicted :  2.40745\n",
      "Actual :  0.0 Predicted :  1.73387\n",
      "Actual :  0.0 Predicted :  2.8599\n",
      "Actual :  0.0 Predicted :  4.49988\n",
      "Actual :  0.0 Predicted :  2.54835\n",
      "Actual :  0.0 Predicted :  1.49042\n",
      "Actual :  0.0 Predicted :  4.03817\n",
      "Actual :  5.0 Predicted :  4.63378\n",
      "Actual :  0.0 Predicted :  4.36063\n",
      "Actual :  0.0 Predicted :  2.98357\n",
      "Actual :  5.0 Predicted :  4.52012\n",
      "Actual :  0.0 Predicted :  0.0\n",
      "Actual :  5.0 Predicted :  4.02631\n",
      "Actual :  0.0 Predicted :  2.73769\n",
      "Actual :  0.0 Predicted :  4.24988\n",
      "Actual :  0.0 Predicted :  3.67858\n",
      "Actual :  0.0 Predicted :  0.0\n",
      "Actual :  3.0 Predicted :  3.73782\n",
      "Actual :  0.0 Predicted :  3.35303\n",
      "Actual :  4.0 Predicted :  4.93394\n",
      "Actual :  0.0 Predicted :  2.48987\n",
      "Actual :  0.0 Predicted :  3.26817\n",
      "Actual :  0.0 Predicted :  1.42312\n",
      "Actual :  0.0 Predicted :  3.76439\n",
      "Actual :  0.0 Predicted :  1.79088\n",
      "Actual :  0.0 Predicted :  4.14432\n",
      "Actual :  0.0 Predicted :  2.15521\n",
      "Actual :  0.0 Predicted :  3.23996\n",
      "Actual :  4.0 Predicted :  5.41053\n",
      "Actual :  0.0 Predicted :  0.0\n",
      "Actual :  0.0 Predicted :  3.5305\n",
      "Actual :  0.0 Predicted :  5.62016\n",
      "Actual :  0.0 Predicted :  1.65106\n",
      "Actual :  0.0 Predicted :  3.00589\n",
      "Actual :  0.0 Predicted :  0.732647\n",
      "Actual :  0.0 Predicted :  3.67084\n",
      "Actual :  0.0 Predicted :  3.95626\n",
      "Actual :  0.0 Predicted :  4.26889\n",
      "Actual :  0.0 Predicted :  3.46397\n",
      "Actual :  0.0 Predicted :  2.41044\n",
      "Actual :  0.0 Predicted :  2.10814\n",
      "Actual :  0.0 Predicted :  2.14418\n",
      "Actual :  0.0 Predicted :  1.29189\n",
      "Actual :  0.0 Predicted :  1.20672\n",
      "Actual :  0.0 Predicted :  2.0775\n",
      "Actual :  0.0 Predicted :  2.87155\n",
      "Actual :  0.0 Predicted :  3.81014\n",
      "Actual :  0.0 Predicted :  3.02811\n",
      "Actual :  2.0 Predicted :  2.6691\n",
      "Actual :  0.0 Predicted :  0.494226\n",
      "Actual :  4.0 Predicted :  4.37097\n",
      "Actual :  0.0 Predicted :  1.97634\n",
      "Actual :  0.0 Predicted :  0.41379\n",
      "Actual :  0.0 Predicted :  1.76264\n",
      "Actual :  0.0 Predicted :  2.94323\n",
      "Actual :  0.0 Predicted :  4.07425\n",
      "Actual :  0.0 Predicted :  3.09989\n",
      "Actual :  0.0 Predicted :  1.29852\n",
      "Actual :  0.0 Predicted :  5.12435\n",
      "Actual :  0.0 Predicted :  3.0158\n",
      "Actual :  0.0 Predicted :  3.45266\n",
      "Actual :  0.0 Predicted :  4.50884\n",
      "Actual :  0.0 Predicted :  0.0\n",
      "Actual :  0.0 Predicted :  2.99724\n",
      "Actual :  0.0 Predicted :  2.6844\n",
      "Actual :  0.0 Predicted :  2.49086\n",
      "Actual :  0.0 Predicted :  2.23734\n",
      "Actual :  0.0 Predicted :  3.16581\n",
      "Actual :  0.0 Predicted :  4.83585\n",
      "Actual :  0.0 Predicted :  0.958243\n",
      "Actual :  0.0 Predicted :  1.51668\n",
      "Actual :  0.0 Predicted :  3.39134\n",
      "Actual :  0.0 Predicted :  2.0657\n",
      "Actual :  0.0 Predicted :  4.09432\n",
      "Actual :  0.0 Predicted :  4.85542\n",
      "Actual :  0.0 Predicted :  2.0563\n",
      "Actual :  0.0 Predicted :  4.35875\n",
      "Actual :  0.0 Predicted :  2.30808\n",
      "Actual :  5.0 Predicted :  3.57864\n",
      "Actual :  0.0 Predicted :  1.40986\n",
      "Actual :  0.0 Predicted :  1.85044\n",
      "Actual :  0.0 Predicted :  1.63336\n",
      "Actual :  0.0 Predicted :  2.67203\n",
      "Actual :  0.0 Predicted :  3.52827\n",
      "Actual :  0.0 Predicted :  3.50906\n",
      "Actual :  0.0 Predicted :  4.41262\n",
      "Actual :  0.0 Predicted :  0.0902346\n",
      "Actual :  4.0 Predicted :  3.18382\n",
      "Actual :  0.0 Predicted :  4.76102\n",
      "Actual :  0.0 Predicted :  3.49285\n",
      "Actual :  0.0 Predicted :  2.44061\n",
      "Actual :  0.0 Predicted :  3.1665\n",
      "Actual :  0.0 Predicted :  0.110722\n",
      "Actual :  0.0 Predicted :  4.78732\n",
      "Actual :  0.0 Predicted :  3.84805\n",
      "Actual :  0.0 Predicted :  2.66572\n",
      "Actual :  0.0 Predicted :  0.583757\n",
      "Actual :  0.0 Predicted :  3.46478\n",
      "Actual :  0.0 Predicted :  4.47508\n",
      "Actual :  0.0 Predicted :  3.0242\n",
      "Actual :  0.0 Predicted :  4.11696\n",
      "Actual :  0.0 Predicted :  3.54807\n",
      "Actual :  5.0 Predicted :  4.36982\n",
      "Actual :  0.0 Predicted :  0.673989\n",
      "Actual :  0.0 Predicted :  1.24174\n",
      "Actual :  0.0 Predicted :  3.8259\n",
      "Actual :  0.0 Predicted :  3.11068\n",
      "Actual :  0.0 Predicted :  0.0\n",
      "Actual :  0.0 Predicted :  2.61008\n",
      "Actual :  0.0 Predicted :  1.96999\n",
      "Actual :  0.0 Predicted :  0.428208\n",
      "Actual :  0.0 Predicted :  4.43021\n",
      "Actual :  0.0 Predicted :  0.760224\n",
      "Actual :  0.0 Predicted :  4.71134\n",
      "Actual :  0.0 Predicted :  3.46046\n",
      "Actual :  0.0 Predicted :  0.0\n",
      "Actual :  0.0 Predicted :  0.00817339\n",
      "Actual :  0.0 Predicted :  2.34909\n",
      "Actual :  0.0 Predicted :  2.93559\n",
      "Actual :  0.0 Predicted :  0.845024\n",
      "Actual :  0.0 Predicted :  0.0\n",
      "Actual :  0.0 Predicted :  3.35768\n",
      "Actual :  0.0 Predicted :  1.59269\n",
      "Actual :  0.0 Predicted :  1.59067\n",
      "Actual :  0.0 Predicted :  3.02088\n",
      "Actual :  0.0 Predicted :  2.81342\n",
      "Actual :  0.0 Predicted :  3.84791\n",
      "Actual :  0.0 Predicted :  3.56427\n",
      "Actual :  0.0 Predicted :  2.89514\n",
      "Actual :  0.0 Predicted :  3.68041\n",
      "Actual :  0.0 Predicted :  1.42623\n",
      "Actual :  0.0 Predicted :  4.27988\n",
      "Actual :  0.0 Predicted :  3.10501\n",
      "Actual :  0.0 Predicted :  3.72077\n",
      "Actual :  0.0 Predicted :  2.50782\n",
      "Actual :  0.0 Predicted :  1.75728\n",
      "Actual :  0.0 Predicted :  3.62858\n",
      "Actual :  0.0 Predicted :  0.802813\n",
      "Actual :  0.0 Predicted :  3.38396\n",
      "Actual :  3.0 Predicted :  4.79219\n",
      "Actual :  0.0 Predicted :  2.95454\n",
      "Actual :  5.0 Predicted :  3.72774\n",
      "Actual :  0.0 Predicted :  2.78383\n",
      "Actual :  0.0 Predicted :  1.30262\n",
      "Actual :  0.0 Predicted :  3.78014\n",
      "Actual :  0.0 Predicted :  0.910674\n",
      "Actual :  0.0 Predicted :  0.623853\n",
      "Actual :  0.0 Predicted :  1.79246\n",
      "Actual :  0.0 Predicted :  3.43304\n",
      "Actual :  0.0 Predicted :  1.42626\n",
      "Actual :  0.0 Predicted :  1.70692\n",
      "Actual :  0.0 Predicted :  2.37771\n",
      "Actual :  0.0 Predicted :  4.16552\n",
      "Actual :  5.0 Predicted :  4.57008\n",
      "Actual :  0.0 Predicted :  2.03488\n",
      "Actual :  0.0 Predicted :  2.84569\n",
      "Actual :  0.0 Predicted :  1.6758\n",
      "Actual :  0.0 Predicted :  2.65015\n",
      "Actual :  0.0 Predicted :  1.9679\n",
      "Actual :  0.0 Predicted :  1.56085\n",
      "Actual :  0.0 Predicted :  2.86007\n",
      "Actual :  0.0 Predicted :  4.02828\n",
      "Actual :  0.0 Predicted :  1.56365\n",
      "Actual :  0.0 Predicted :  2.84969\n",
      "Actual :  0.0 Predicted :  2.97496\n",
      "Actual :  0.0 Predicted :  2.05561\n",
      "Actual :  0.0 Predicted :  4.1063\n",
      "Actual :  0.0 Predicted :  2.76489\n",
      "Actual :  0.0 Predicted :  1.14361\n",
      "Actual :  0.0 Predicted :  4.30081\n",
      "Actual :  0.0 Predicted :  0.782841\n",
      "Actual :  0.0 Predicted :  3.68939\n",
      "Actual :  0.0 Predicted :  2.94633\n",
      "Actual :  4.0 Predicted :  1.49893\n",
      "Actual :  0.0 Predicted :  3.422\n",
      "Actual :  0.0 Predicted :  3.43559\n",
      "Actual :  0.0 Predicted :  3.93668\n",
      "Actual :  0.0 Predicted :  2.0531\n",
      "Actual :  0.0 Predicted :  3.3032\n",
      "Actual :  0.0 Predicted :  2.97108\n",
      "Actual :  0.0 Predicted :  3.54187\n",
      "Actual :  0.0 Predicted :  1.65367\n",
      "Actual :  0.0 Predicted :  3.55326\n",
      "Actual :  0.0 Predicted :  4.0655\n",
      "Actual :  0.0 Predicted :  1.8995\n",
      "Actual :  0.0 Predicted :  2.23619\n",
      "Actual :  0.0 Predicted :  2.27969\n",
      "Actual :  0.0 Predicted :  4.07087\n",
      "Actual :  0.0 Predicted :  2.92758\n",
      "Actual :  0.0 Predicted :  0.877128\n",
      "Actual :  0.0 Predicted :  3.93525\n",
      "Actual :  0.0 Predicted :  5.71166\n",
      "Actual :  0.0 Predicted :  4.35283\n",
      "Actual :  0.0 Predicted :  1.35609\n",
      "Actual :  0.0 Predicted :  1.33882\n",
      "Actual :  0.0 Predicted :  2.1368\n",
      "Actual :  0.0 Predicted :  2.44269\n",
      "Actual :  0.0 Predicted :  2.42852\n",
      "Actual :  0.0 Predicted :  3.38106\n",
      "Actual :  4.0 Predicted :  4.40574\n",
      "Actual :  0.0 Predicted :  3.7724\n",
      "Actual :  0.0 Predicted :  1.65817\n",
      "Actual :  0.0 Predicted :  0.0\n",
      "Actual :  0.0 Predicted :  1.70287\n",
      "Actual :  0.0 Predicted :  0.0\n",
      "Actual :  0.0 Predicted :  4.60924\n",
      "Actual :  0.0 Predicted :  3.43515\n"
     ]
    }
   ],
   "source": [
    "intersec = set.intersection(actual_set,predicted_set)\n",
    "print(\"Common Movies Count : \",len(intersec))\n",
    "for ind in range(len(actual_set)):\n",
    "    print(\"Actual : \",\n",
    "          test_user1[ind],\n",
    "#           test_user1[np.where(columns == (list(actual_set)[ind]))],\n",
    "          \"Predicted : \",\n",
    "          predicted_test_user1[ind])\n",
    "#           predicted_test_user1[np.where(columns == (list(predicted_set)[ind]))])"
   ]
  },
  {
   "cell_type": "code",
   "execution_count": 17,
   "metadata": {
    "collapsed": true
   },
   "outputs": [],
   "source": []
  },
  {
   "cell_type": "code",
   "execution_count": 18,
   "metadata": {},
   "outputs": [
    {
     "data": {
      "text/plain": [
       "93"
      ]
     },
     "execution_count": 18,
     "metadata": {},
     "output_type": "execute_result"
    }
   ],
   "source": []
  },
  {
   "cell_type": "code",
   "execution_count": null,
   "metadata": {
    "collapsed": true
   },
   "outputs": [],
   "source": []
  }
 ],
 "metadata": {
  "kernelspec": {
   "display_name": "Python 3",
   "language": "python",
   "name": "python3"
  },
  "language_info": {
   "codemirror_mode": {
    "name": "ipython",
    "version": 3
   },
   "file_extension": ".py",
   "mimetype": "text/x-python",
   "name": "python",
   "nbconvert_exporter": "python",
   "pygments_lexer": "ipython3",
   "version": "3.5.2"
  }
 },
 "nbformat": 4,
 "nbformat_minor": 2
}
