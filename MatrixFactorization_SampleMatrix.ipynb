{
 "cells": [
  {
   "cell_type": "code",
   "execution_count": 1,
   "metadata": {
    "collapsed": true
   },
   "outputs": [],
   "source": [
    "import numpy as np\n",
    "errors = []\n",
    "\n",
    "# Function to calculate RMSE on nonzero values in the actual matrix\n",
    "def non_zero_rmse_np(y_true,y_pred):\n",
    "    counter = 0\n",
    "    e = 0\n",
    "    for i in range(len(y_true)):\n",
    "        for j in range(len(y_true[i])):\n",
    "            if y_true[i][j] > 0:\n",
    "                counter = counter + 1\n",
    "                e = e + pow(y_true[i][j] - y_pred[i][j], 2)\n",
    "    e = np.sqrt(e/counter)\n",
    "    return e\n",
    "\n",
    "# Function to perform matrix factorization\n",
    "def matrix_fac(U_R, P, Q, K, alpha=0.05, beta=0.05):\n",
    "    epochs=20\n",
    "    Q = Q.T\n",
    "    for step in range(epochs):  # number of iterations\n",
    "        for i in range(len(R)):  # iterating through each row\n",
    "            for j in range(len(R[i])):  # iterating each element in the row i\n",
    "                if R[i][j] > 0:  \n",
    "                    eij = R[i][j] - np.dot(P[i,:],Q[:,j])\n",
    "                    for k in range(K):\n",
    "                        P[i][k] = P[i][k] + alpha * (2 * eij * Q[k][j] - beta * P[i][k])\n",
    "                        Q[k][j] = Q[k][j] + alpha * (2 * eij * P[i][k] - beta * Q[k][j])\n",
    "        eR = np.dot(P,Q)\n",
    "        e = non_zero_rmse_np(U_R,eR)\n",
    "        errors.append(e)\n",
    "        if e < 0.001:\n",
    "            break\n",
    "    return P, Q.T\n"
   ]
  },
  {
   "cell_type": "code",
   "execution_count": 2,
   "metadata": {
    "collapsed": true
   },
   "outputs": [],
   "source": [
    "# Actual Rating Matrix\n",
    "# Users 1,3 and 5 are have similar ratings\n",
    "# Users 2 and 4 have similar ratings \n",
    "# R = [\n",
    "#      [5,4,4,1,1,3],\n",
    "#      [1,2,2,4,4,5],\n",
    "#      [5,4,4,1,1,3],\n",
    "#      [1,2,2,4,4,5],\n",
    "#      [5,4,4,1,1,3],\n",
    "#     ]\n",
    "\n",
    "# Training matrix\n",
    "R = [\n",
    "     [5,4,4,1,1,3],\n",
    "     [0,2,0,4,4,5],\n",
    "     [5,0,4,1,0,3],\n",
    "     [1,2,2,4,4,5],\n",
    "     [5,4,4,1,1,3],\n",
    "    ]\n",
    "\n",
    "# Test Matrix\n",
    "Test = [\n",
    "     [0,0,0,0,0,0],\n",
    "     [1,0,2,0,0,0],\n",
    "     [0,4,0,0,1,0],\n",
    "     [0,0,0,0,0,0],\n",
    "     [0,0,0,0,0,0],\n",
    "    ]\n",
    " \n",
    "R = np.array(R)\n",
    " \n",
    "N = len(R)\n",
    "M = len(R[0])\n",
    "K = 2\n",
    " \n",
    "P = np.random.rand(N,K)\n",
    "Q = np.random.rand(M,K)\n",
    " \n",
    "P, Q = matrix_fac(R, P, Q, K)\n",
    "new_R = np.dot(P, Q.T)\n"
   ]
  },
  {
   "cell_type": "code",
   "execution_count": 3,
   "metadata": {},
   "outputs": [
    {
     "data": {
      "text/plain": [
       "array([[ 4.95198685,  3.93906257,  3.94280393,  0.99544217,  1.00066046,\n",
       "         2.97882023],\n",
       "       [ 1.0262859 ,  2.01434011,  2.01625225,  3.98094941,  3.9797994 ,\n",
       "         4.97177633],\n",
       "       [ 4.95576499,  3.94284328,  3.94658823,  0.99864476,  1.0038656 ,\n",
       "         2.98391131],\n",
       "       [ 1.02475992,  2.0129613 ,  2.01487214,  3.98012287,  3.97897156,\n",
       "         4.97025877],\n",
       "       [ 4.96228798,  3.94731315,  3.95106234,  0.99769101,  1.00292006,\n",
       "         2.98522226]])"
      ]
     },
     "execution_count": 3,
     "metadata": {},
     "output_type": "execute_result"
    }
   ],
   "source": [
    "new_R"
   ]
  },
  {
   "cell_type": "code",
   "execution_count": 4,
   "metadata": {},
   "outputs": [
    {
     "name": "stdout",
     "output_type": "stream",
     "text": [
      "Train set RMSE 0.0317154146709\n",
      "Test set RMSE 0.0325458037643\n"
     ]
    }
   ],
   "source": [
    "print(\"Train set RMSE\", non_zero_rmse_np(R, new_R))\n",
    "test_rmse = non_zero_rmse_np(Test, new_R)\n",
    "print(\"Test set RMSE\", test_rmse)\n"
   ]
  },
  {
   "cell_type": "code",
   "execution_count": 5,
   "metadata": {
    "collapsed": true
   },
   "outputs": [],
   "source": [
    "%matplotlib inline\n",
    "\n",
    "import matplotlib\n",
    "import matplotlib.pyplot as plt\n",
    "import pylab "
   ]
  },
  {
   "cell_type": "code",
   "execution_count": 6,
   "metadata": {},
   "outputs": [
    {
     "data": {
      "image/png": "[encoded data removed]",
      "text/plain": [
       "<matplotlib.figure.Figure at 0x2deaffc8ef0>"
      ]
     },
     "metadata": {},
     "output_type": "display_data"
    }
   ],
   "source": [
    "num_epoch = range(1,len(errors)+1)\n",
    "test_error = [test_rmse for i in range(len(num_epoch))]\n",
    "\n",
    "plt.figure(figsize=(20,10))\n",
    "plt.plot(num_epoch, errors, 'b', label='Training RMSE')\n",
    "plt.plot(num_epoch, test_error, 'g', label='Test RMSE')\n",
    "pylab.legend(loc='upper right')\n",
    "pylab.xlim(xmin=1)\n",
    "plt.xticks(num_epoch)\n",
    "plt.xlabel('Epoch')\n",
    "plt.ylabel('RMSE')\n",
    "plt.title('RMSE On Rated Movies by Users')\n",
    "plt.show()"
   ]
  },
  {
   "cell_type": "code",
   "execution_count": null,
   "metadata": {
    "collapsed": true
   },
   "outputs": [],
   "source": []
  }
 ],
 "metadata": {
  "kernelspec": {
   "display_name": "Python 3",
   "language": "python",
   "name": "python3"
  },
  "language_info": {
   "codemirror_mode": {
    "name": "ipython",
    "version": 3
   },
   "file_extension": ".py",
   "mimetype": "text/x-python",
   "name": "python",
   "nbconvert_exporter": "python",
   "pygments_lexer": "ipython3",
   "version": "3.5.2"
  }
 },
 "nbformat": 4,
 "nbformat_minor": 2
}
