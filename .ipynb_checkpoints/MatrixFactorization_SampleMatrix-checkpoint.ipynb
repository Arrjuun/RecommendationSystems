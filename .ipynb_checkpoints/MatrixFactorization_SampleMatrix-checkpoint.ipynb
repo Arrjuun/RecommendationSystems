{
 "cells": [
  {
   "cell_type": "code",
   "execution_count": 1,
   "metadata": {
    "collapsed": true
   },
   "outputs": [],
   "source": [
    "import numpy as np\n",
    "errors = []\n",
    "\n",
    "def non_zero_rmse_np(y_true,y_pred):\n",
    "    counter = 0\n",
    "    e = 0\n",
    "    for i in range(len(y_true)):\n",
    "        for j in range(len(y_true[i])):\n",
    "            if y_true[i][j] > 0:\n",
    "                counter = counter + 1\n",
    "                e = e + pow(y_true[i][j] - y_pred[i][j], 2)\n",
    "    e = np.sqrt(e/counter)\n",
    "    return e\n",
    "\n",
    "def matrix_fac(U_R, P, Q, K, epochs=50, alpha=0.02, beta=0.02):\n",
    "    Q = Q.T\n",
    "    for step in range(epochs):  # number of iterations\n",
    "        for i in range(len(R)):  # iterating through each row\n",
    "            for j in range(len(R[i])):  # iterating each element in the row i\n",
    "                if R[i][j] > 0:  \n",
    "                    eij = R[i][j] - np.dot(P[i,:],Q[:,j])\n",
    "                    for k in range(K):\n",
    "                        P[i][k] = P[i][k] + alpha * (2 * eij * Q[k][j] - beta * P[i][k])\n",
    "                        Q[k][j] = Q[k][j] + alpha * (2 * eij * P[i][k] - beta * Q[k][j])\n",
    "        eR = np.dot(P,Q)\n",
    "        \n",
    "#         e = 0\n",
    "#         counter = 0\n",
    "#         for i in range(len(R)):\n",
    "#             for j in range(len(R[i])):\n",
    "#                 if R[i][j] > 0:\n",
    "#                     counter = counter + 1\n",
    "#                     e = e + pow(R[i][j] - np.dot(P[i,:],Q[:,j]), 2)\n",
    "#                     for k in range(K):\n",
    "#                         e = e + (beta/2) * (pow(P[i][k],2) + pow(Q[k][j],2))\n",
    "#         e = np.sqrt(e/counter)\n",
    "        e = non_zero_rmse_np(U_R,eR)\n",
    "        errors.append(e)\n",
    "        if e < 0.001:\n",
    "            break\n",
    "    return P, Q.T\n"
   ]
  },
  {
   "cell_type": "code",
   "execution_count": 2,
   "metadata": {
    "collapsed": true
   },
   "outputs": [],
   "source": [
    "# Actual Rating Matrix\n",
    "# Users 1,3 and 5 are have similar ratings\n",
    "# Users 2 and 4 have similar ratings \n",
    "# R = [\n",
    "#      [5,4,4,1,1,3],\n",
    "#      [1,2,2,4,4,5],\n",
    "#      [5,4,4,1,1,3],\n",
    "#      [1,2,2,4,4,5],\n",
    "#      [5,4,4,1,1,3],\n",
    "#     ]\n",
    "\n",
    "# Training matrix\n",
    "R = [\n",
    "     [5,4,4,1,1,3],\n",
    "     [0,2,0,4,4,5],\n",
    "     [5,0,4,1,0,3],\n",
    "     [1,2,2,4,4,5],\n",
    "     [5,4,4,1,1,3],\n",
    "    ]\n",
    "\n",
    "# Test Matrix\n",
    "Test = [\n",
    "     [0,0,0,0,0,0],\n",
    "     [1,0,2,0,0,0],\n",
    "     [0,4,0,0,1,0],\n",
    "     [0,0,0,0,0,0],\n",
    "     [0,0,0,0,0,0],\n",
    "    ]\n",
    " \n",
    "R = np.array(R)\n",
    " \n",
    "N = len(R)\n",
    "M = len(R[0])\n",
    "K = 2\n",
    " \n",
    "P = np.random.rand(N,K)\n",
    "Q = np.random.rand(M,K)\n",
    " \n",
    "P, Q = matrix_fac(R, P, Q, K)\n",
    "new_R = np.dot(P, Q.T)\n"
   ]
  },
  {
   "cell_type": "code",
   "execution_count": 3,
   "metadata": {},
   "outputs": [
    {
     "data": {
      "text/plain": [
       "array([[ 4.97970762,  3.98034167,  3.98232742,  0.99926589,  1.00228073,\n",
       "         2.99306862],\n",
       "       [ 1.16204874,  2.04463567,  2.09458702,  3.97009771,  3.97263398,\n",
       "         4.98996089],\n",
       "       [ 4.97937879,  3.98061719,  3.98262668,  1.00100293,  1.00401844,\n",
       "         2.99494158],\n",
       "       [ 1.03499845,  1.95866909,  2.00926107,  3.99680286,  3.99928781,\n",
       "         4.97354395],\n",
       "       [ 4.98146595,  3.98172505,  3.98371053,  0.99954483,  1.0025607 ,\n",
       "         2.9940406 ]])"
      ]
     },
     "execution_count": 3,
     "metadata": {},
     "output_type": "execute_result"
    }
   ],
   "source": [
    "new_R"
   ]
  },
  {
   "cell_type": "code",
   "execution_count": null,
   "metadata": {
    "collapsed": true
   },
   "outputs": [],
   "source": []
  },
  {
   "cell_type": "code",
   "execution_count": 4,
   "metadata": {},
   "outputs": [
    {
     "name": "stdout",
     "output_type": "stream",
     "text": [
      "Train set RMSE 0.0199700098089\n",
      "Test set RMSE 0.0943376141432\n"
     ]
    }
   ],
   "source": [
    "print(\"Train set RMSE\", non_zero_rmse_np(R, new_R))\n",
    "test_rmse = non_zero_rmse_np(Test, new_R)\n",
    "print(\"Test set RMSE\", test_rmse)\n"
   ]
  },
  {
   "cell_type": "code",
   "execution_count": 5,
   "metadata": {
    "collapsed": true
   },
   "outputs": [],
   "source": [
    "%matplotlib inline\n",
    "\n",
    "import matplotlib\n",
    "import matplotlib.pyplot as plt\n",
    "import pylab "
   ]
  },
  {
   "cell_type": "code",
   "execution_count": 6,
   "metadata": {},
   "outputs": [
    {
     "data": {
      "image/png": "[encoded data removed]",
      "text/plain": [
       "<matplotlib.figure.Figure at 0x172a5816358>"
      ]
     },
     "metadata": {},
     "output_type": "display_data"
    }
   ],
   "source": [
    "num_epoch = range(1,len(errors)+1)\n",
    "test_error = [test_rmse for i in range(len(num_epoch))]\n",
    "\n",
    "plt.figure(figsize=(20,10))\n",
    "plt.plot(num_epoch, errors, 'b', label='Training Loss')\n",
    "plt.plot(num_epoch, test_error, 'g', label='Test RMSE')\n",
    "pylab.legend(loc='upper right')\n",
    "pylab.xlim(xmin=1)\n",
    "plt.xticks(num_epoch)\n",
    "plt.xlabel('Epoch')\n",
    "plt.ylabel('RMSE')\n",
    "plt.title('RMSE On Rated Movies by Users')\n",
    "plt.show()"
   ]
  },
  {
   "cell_type": "code",
   "execution_count": null,
   "metadata": {
    "collapsed": true
   },
   "outputs": [],
   "source": []
  }
 ],
 "metadata": {
  "kernelspec": {
   "display_name": "Python 3",
   "language": "python",
   "name": "python3"
  },
  "language_info": {
   "codemirror_mode": {
    "name": "ipython",
    "version": 3
   },
   "file_extension": ".py",
   "mimetype": "text/x-python",
   "name": "python",
   "nbconvert_exporter": "python",
   "pygments_lexer": "ipython3",
   "version": "3.5.2"
  }
 },
 "nbformat": 4,
 "nbformat_minor": 2
}
